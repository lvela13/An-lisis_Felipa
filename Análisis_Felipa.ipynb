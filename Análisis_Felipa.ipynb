{
  "nbformat": 4,
  "nbformat_minor": 0,
  "metadata": {
    "colab": {
      "provenance": [],
      "collapsed_sections": []
    },
    "kernelspec": {
      "name": "python3",
      "display_name": "Python 3"
    },
    "language_info": {
      "name": "python"
    }
  },
  "cells": [
    {
      "cell_type": "markdown",
      "source": [
        "## PORTADA\n",
        "\n",
        "\n",
        "*   Título del proyecto : **\"Felipa Collection, un emprendimiento de slowfashion en datos\"**\n",
        "*   Nombre del analista: Lucia Vela \n",
        "*   Curso: EAD2 2022\n",
        "\n",
        "\n",
        "\n"
      ],
      "metadata": {
        "id": "TQOVh04BBCji"
      }
    },
    {
      "cell_type": "markdown",
      "source": [
        "## INDICE\n",
        "\n",
        "1.   [Introducción](https://colab.research.google.com/drive/1EuMt_BBC60nrYHjBHU30zUTv6S5L1VEp#scrollTo=hT7NQZXhK1JP) \n",
        "2.   [Planteamiento del problema](https://colab.research.google.com/drive/1EuMt_BBC60nrYHjBHU30zUTv6S5L1VEp#scrollTo=JjobwkXvLOeX)\n",
        "3.   [Objetivos](https://colab.research.google.com/drive/1EuMt_BBC60nrYHjBHU30zUTv6S5L1VEp#scrollTo=AsOj-iHLLWb8&line=1&uniqifier=1)\n",
        "  - 3.1 General\n",
        "  - 3.2 Específicos \n",
        "4.   [Planteo de hipótesis a contrastar](https://colab.research.google.com/drive/1EuMt_BBC60nrYHjBHU30zUTv6S5L1VEp#scrollTo=6PbUQFZWLyrC&line=1&uniqifier=1)\n",
        "5.   [Explicación de la base de datos y definición de variables](https://colab.research.google.com/drive/1EuMt_BBC60nrYHjBHU30zUTv6S5L1VEp#scrollTo=7fI05QWGMB6C&line=1&uniqifier=1) (link al data set)\n",
        "  - 5.1 Instalación e importación de liberarías\n",
        "  - 5.2 Carga de base de datos\n",
        "  - 5.3 Descripción del data set \n",
        "  - 5.4 Limpieza y pre-procesamiento de la base de datos\n",
        "6.   [Análisis exploratorio, descriptivo y visual de los datos](https://colab.research.google.com/drive/1EuMt_BBC60nrYHjBHU30zUTv6S5L1VEp#scrollTo=fGACZ49IXjze&line=1&uniqifier=1)\n",
        "  - 6.1 Cuál es el año que representó mayor cantidad de profit?\n",
        "  - 6.2 Existe estacionalidad en las ventas? La mayor cantidad de profit se traduce a mayor cantidad de unidades vendidas?\n",
        "  - 6.3 Cuál es el artículo que generó mayor ganancia?\n",
        "  - 6.4 Cuál es el método de pago más elegido por las clientas?\n",
        "  - 6.5 Cuál es el código postal (zona) que tiene mayor profit?\n",
        "7.   [Contrastación de hipótesis](https://colab.research.google.com/drive/1EuMt_BBC60nrYHjBHU30zUTv6S5L1VEp#scrollTo=gfhDmRSYeDlq&line=1&uniqifier=1)\n",
        "8.   [Conclusiones](https://colab.research.google.com/drive/1EuMt_BBC60nrYHjBHU30zUTv6S5L1VEp#scrollTo=LqEfrPPA4CIn&line=1&uniqifier=1)\n"
      ],
      "metadata": {
        "id": "eZixWLlwBrbb"
      }
    },
    {
      "cell_type": "markdown",
      "source": [
        "## 1. Introducción"
      ],
      "metadata": {
        "id": "hT7NQZXhK1JP"
      }
    },
    {
      "cell_type": "markdown",
      "source": [
        "- **Felipa Collection** es un emprendimiento uruguayo de lencería femenina hecha a mano, lanzado a principios del 2020 por Luciana Oreiro.\n",
        "- Se autodenomina como una marca de slowfashion en la que se puede encontrar en cada prenda un pienso profundo y un toque personal de su diseñadora/fundadora.\n",
        "- La slowfashion intenta concientizar el consumo de la moda teniendo en cuenta el impacto ambiental y fomenta la compra de prendas de mejor calidad que duren más tiempo (más información en la siguiente [nota](https://https://www.tierramadre.org/moda-sostenible/que-es-slow-fashion/#:~:text=En%20pocas%20palabras%2C%20la%20slow,necesarios%20para%20fabricar%20la%20ropa.)).\n",
        "- Hasta ahora **Felipa Collection** lleva vendido más de 1000 unidades desde su inicio hace dos años, facturando más de un millón de pesos uruguayos y posicionándose con fuerza en la competencia sobre otros emprendimientos del mismo rubro.\n",
        "- Para conocer más sobre la marca:\n",
        "    * Instagram: @felipacollection\n",
        "    * Web: https://www.felipacollection.com/"
      ],
      "metadata": {
        "id": "oEuUCvObtwe0"
      }
    },
    {
      "cell_type": "markdown",
      "source": [
        "## 2. Planteamiento del problema"
      ],
      "metadata": {
        "id": "JjobwkXvLOeX"
      }
    },
    {
      "cell_type": "markdown",
      "source": [
        "- Este análisis intenta brindar información sobre el comportamiento del histórico de ventas con el fin de que pueda ser útil para potenciar el crecimiento de la marca ya que hasta ahora no se habían analizado los datos."
      ],
      "metadata": {
        "id": "VZ19Zb5CzWAJ"
      }
    },
    {
      "cell_type": "markdown",
      "source": [
        "## 3. Objetivos"
      ],
      "metadata": {
        "id": "AsOj-iHLLWb8"
      }
    },
    {
      "cell_type": "markdown",
      "source": [
        "####3.1\n",
        "  - **Objetivo general:**\n",
        "Conocer el comportamiento del histórico de ventas."
      ],
      "metadata": {
        "id": "JNVywQZPxxpx"
      }
    },
    {
      "cell_type": "markdown",
      "source": [
        "####3.2\n",
        "  -  **Obejtivos especificos:**\n",
        "    - Probar que hubo crecimiento de ventas año sobre año.\n",
        "    - Entender si existe estacionalidad de ventas durante el año.\n",
        "    - Conocer cuáles son los artículos más vendidos y cual es la preferencia de las clientas en cuanto a método de pago o envío."
      ],
      "metadata": {
        "id": "7DFcbFVb2mFf"
      }
    },
    {
      "cell_type": "markdown",
      "source": [
        "## 4. Planteo de hipótesis a contrastar"
      ],
      "metadata": {
        "id": "6PbUQFZWLyrC"
      }
    },
    {
      "cell_type": "markdown",
      "source": [
        "Teniendo en cuenta qué desde el comienzo **Felipa Collection** tuvo un crecimiento constante, se intentará probar que hubo un aumento de ventas año sobre año.\n",
        "\n",
        "- **Hipótesis nula:** el total de ventas de 2021 no superan las del 2020 \n",
        "- **Hipótesis alternativa** el total de ventas de 2021 superan las del 2020 \n"
      ],
      "metadata": {
        "id": "SZyl0gJB0PvC"
      }
    },
    {
      "cell_type": "markdown",
      "source": [
        "` Se tendrá en cuenta como total de ventas el profit del año, entendiendo este como precio por unidad por el total de unidades vendidas. Expresado en $ (pesos uruguayos)`"
      ],
      "metadata": {
        "id": "hx26yAWS39Ew"
      }
    },
    {
      "cell_type": "markdown",
      "source": [
        "## 5. Explicación de la base de datos y definición de variables\n"
      ],
      "metadata": {
        "id": "7fI05QWGMB6C"
      }
    },
    {
      "cell_type": "markdown",
      "source": [
        "### 5.1 Importación de librerias"
      ],
      "metadata": {
        "id": "4PsQI6CJMOvY"
      }
    },
    {
      "cell_type": "code",
      "source": [
        "import pandas as pd\n",
        "import numpy as np\n",
        "import matplotlib.pyplot as plt\n",
        "import datetime\n",
        "import scipy.stats as stats\n",
        "from numpy import var"
      ],
      "metadata": {
        "id": "cUlLVWqsIvOT"
      },
      "execution_count": null,
      "outputs": []
    },
    {
      "cell_type": "markdown",
      "source": [
        "### 5.2 Carga de base de datos"
      ],
      "metadata": {
        "id": "VtnXXKQNNZQq"
      }
    },
    {
      "cell_type": "markdown",
      "source": [
        "#### Descargar dataset desde github y subirlo al entorno de ejecución\n",
        "[Link](https://github.com/lvela13/dataset_felipa) al dataset sales_felipa.csv subido al github."
      ],
      "metadata": {
        "id": "f4eBNnAXInwz"
      }
    },
    {
      "cell_type": "code",
      "execution_count": null,
      "metadata": {
        "colab": {
          "base_uri": "https://localhost:8080/",
          "height": 612
        },
        "id": "W4o4bbRGIZsH",
        "outputId": "2acdcd3c-2d22-46ef-a860-277d28ab1b17"
      },
      "outputs": [
        {
          "output_type": "execute_result",
          "data": {
            "text/plain": [
              "          Fecha                          Artículo                  Variante  \\\n",
              "0  Jul 29, 2022                       Lili Corset  talle :M/L | Color:Negro   \n",
              "1  Jul 29, 2022  Pack x2 bralett espalda cerrada                 talle :M/L   \n",
              "2  Jul 20, 2022                        Body queen  talle :M/L | Color:Negro   \n",
              "3  Jul 14, 2022                        Body queen  talle :S/M | Color:Negro   \n",
              "4  Jul 14, 2022                  Tanga regulable   talle :S/M | Color:Bordo   \n",
              "\n",
              "   SKU  Cant.  Cantidad reembolsada  Precio  Peso  Texto personalizado  \\\n",
              "0  NaN      1                     0   715.0     0                  NaN   \n",
              "1  NaN      1                     0   950.0     0                  NaN   \n",
              "2  NaN      1                     0  1432.0     0                  NaN   \n",
              "3  NaN      1                     0  1432.0     0                  NaN   \n",
              "4  NaN      1                     0   290.0     0                  NaN   \n",
              "\n",
              "   Monto del depósito  ... Empresa del destinatario País de entrega  \\\n",
              "0                 NaN  ...                      NaN             URY   \n",
              "1                 NaN  ...                      NaN             URY   \n",
              "2                 NaN  ...                      NaN             URY   \n",
              "3                 NaN  ...                      NaN             URY   \n",
              "4                 NaN  ...                      NaN             URY   \n",
              "\n",
              "  Estado de entrega   Ciudad de entrega  \\\n",
              "0             UY-MO          Montevideo   \n",
              "1             UY-MO          Montevideo   \n",
              "2             UY-CA             Solymar   \n",
              "3             UY-CA  Ciudad de la costa   \n",
              "4             UY-MO          Montevideo   \n",
              "\n",
              "                                Dirección de entrega Código postal de entrega  \\\n",
              "0                                Tacuarembó 1429 513                  \"11000\"   \n",
              "1                                Tacuarembó 1429 513                  \"11000\"   \n",
              "2                       Obligado Manzana g10 solar 4                  \"11300\"   \n",
              "3  Amezaga M12 S15 esq speakerman Lagomar, casa a...                  \"15000\"   \n",
              "4        Carlos Ferreri Odetto 4625 apartamento 401                   \"12900\"   \n",
              "\n",
              "  Estado del pago Método de pago Código del cupón   Total  \n",
              "0          Pagado        offline              NaN  1665.0  \n",
              "1          Pagado        offline              NaN  1665.0  \n",
              "2          Pagado   Mercado Pago              NaN  1432.0  \n",
              "3          Pagado   Mercado Pago   tresañosjuntas  1074.0  \n",
              "4          Pagado   Mercado Pago              NaN  1400.0  \n",
              "\n",
              "[5 rows x 24 columns]"
            ],
            "text/html": [
              "\n",
              "  <div id=\"df-2357b606-14ea-44d3-85c5-1f7577624d24\">\n",
              "    <div class=\"colab-df-container\">\n",
              "      <div>\n",
              "<style scoped>\n",
              "    .dataframe tbody tr th:only-of-type {\n",
              "        vertical-align: middle;\n",
              "    }\n",
              "\n",
              "    .dataframe tbody tr th {\n",
              "        vertical-align: top;\n",
              "    }\n",
              "\n",
              "    .dataframe thead th {\n",
              "        text-align: right;\n",
              "    }\n",
              "</style>\n",
              "<table border=\"1\" class=\"dataframe\">\n",
              "  <thead>\n",
              "    <tr style=\"text-align: right;\">\n",
              "      <th></th>\n",
              "      <th>Fecha</th>\n",
              "      <th>Artículo</th>\n",
              "      <th>Variante</th>\n",
              "      <th>SKU</th>\n",
              "      <th>Cant.</th>\n",
              "      <th>Cantidad reembolsada</th>\n",
              "      <th>Precio</th>\n",
              "      <th>Peso</th>\n",
              "      <th>Texto personalizado</th>\n",
              "      <th>Monto del depósito</th>\n",
              "      <th>...</th>\n",
              "      <th>Empresa del destinatario</th>\n",
              "      <th>País de entrega</th>\n",
              "      <th>Estado de entrega</th>\n",
              "      <th>Ciudad de entrega</th>\n",
              "      <th>Dirección de entrega</th>\n",
              "      <th>Código postal de entrega</th>\n",
              "      <th>Estado del pago</th>\n",
              "      <th>Método de pago</th>\n",
              "      <th>Código del cupón</th>\n",
              "      <th>Total</th>\n",
              "    </tr>\n",
              "  </thead>\n",
              "  <tbody>\n",
              "    <tr>\n",
              "      <th>0</th>\n",
              "      <td>Jul 29, 2022</td>\n",
              "      <td>Lili Corset</td>\n",
              "      <td>talle :M/L | Color:Negro</td>\n",
              "      <td>NaN</td>\n",
              "      <td>1</td>\n",
              "      <td>0</td>\n",
              "      <td>715.0</td>\n",
              "      <td>0</td>\n",
              "      <td>NaN</td>\n",
              "      <td>NaN</td>\n",
              "      <td>...</td>\n",
              "      <td>NaN</td>\n",
              "      <td>URY</td>\n",
              "      <td>UY-MO</td>\n",
              "      <td>Montevideo</td>\n",
              "      <td>Tacuarembó 1429 513</td>\n",
              "      <td>\"11000\"</td>\n",
              "      <td>Pagado</td>\n",
              "      <td>offline</td>\n",
              "      <td>NaN</td>\n",
              "      <td>1665.0</td>\n",
              "    </tr>\n",
              "    <tr>\n",
              "      <th>1</th>\n",
              "      <td>Jul 29, 2022</td>\n",
              "      <td>Pack x2 bralett espalda cerrada</td>\n",
              "      <td>talle :M/L</td>\n",
              "      <td>NaN</td>\n",
              "      <td>1</td>\n",
              "      <td>0</td>\n",
              "      <td>950.0</td>\n",
              "      <td>0</td>\n",
              "      <td>NaN</td>\n",
              "      <td>NaN</td>\n",
              "      <td>...</td>\n",
              "      <td>NaN</td>\n",
              "      <td>URY</td>\n",
              "      <td>UY-MO</td>\n",
              "      <td>Montevideo</td>\n",
              "      <td>Tacuarembó 1429 513</td>\n",
              "      <td>\"11000\"</td>\n",
              "      <td>Pagado</td>\n",
              "      <td>offline</td>\n",
              "      <td>NaN</td>\n",
              "      <td>1665.0</td>\n",
              "    </tr>\n",
              "    <tr>\n",
              "      <th>2</th>\n",
              "      <td>Jul 20, 2022</td>\n",
              "      <td>Body queen</td>\n",
              "      <td>talle :M/L | Color:Negro</td>\n",
              "      <td>NaN</td>\n",
              "      <td>1</td>\n",
              "      <td>0</td>\n",
              "      <td>1432.0</td>\n",
              "      <td>0</td>\n",
              "      <td>NaN</td>\n",
              "      <td>NaN</td>\n",
              "      <td>...</td>\n",
              "      <td>NaN</td>\n",
              "      <td>URY</td>\n",
              "      <td>UY-CA</td>\n",
              "      <td>Solymar</td>\n",
              "      <td>Obligado Manzana g10 solar 4</td>\n",
              "      <td>\"11300\"</td>\n",
              "      <td>Pagado</td>\n",
              "      <td>Mercado Pago</td>\n",
              "      <td>NaN</td>\n",
              "      <td>1432.0</td>\n",
              "    </tr>\n",
              "    <tr>\n",
              "      <th>3</th>\n",
              "      <td>Jul 14, 2022</td>\n",
              "      <td>Body queen</td>\n",
              "      <td>talle :S/M | Color:Negro</td>\n",
              "      <td>NaN</td>\n",
              "      <td>1</td>\n",
              "      <td>0</td>\n",
              "      <td>1432.0</td>\n",
              "      <td>0</td>\n",
              "      <td>NaN</td>\n",
              "      <td>NaN</td>\n",
              "      <td>...</td>\n",
              "      <td>NaN</td>\n",
              "      <td>URY</td>\n",
              "      <td>UY-CA</td>\n",
              "      <td>Ciudad de la costa</td>\n",
              "      <td>Amezaga M12 S15 esq speakerman Lagomar, casa a...</td>\n",
              "      <td>\"15000\"</td>\n",
              "      <td>Pagado</td>\n",
              "      <td>Mercado Pago</td>\n",
              "      <td>tresañosjuntas</td>\n",
              "      <td>1074.0</td>\n",
              "    </tr>\n",
              "    <tr>\n",
              "      <th>4</th>\n",
              "      <td>Jul 14, 2022</td>\n",
              "      <td>Tanga regulable</td>\n",
              "      <td>talle :S/M | Color:Bordo</td>\n",
              "      <td>NaN</td>\n",
              "      <td>1</td>\n",
              "      <td>0</td>\n",
              "      <td>290.0</td>\n",
              "      <td>0</td>\n",
              "      <td>NaN</td>\n",
              "      <td>NaN</td>\n",
              "      <td>...</td>\n",
              "      <td>NaN</td>\n",
              "      <td>URY</td>\n",
              "      <td>UY-MO</td>\n",
              "      <td>Montevideo</td>\n",
              "      <td>Carlos Ferreri Odetto 4625 apartamento 401</td>\n",
              "      <td>\"12900\"</td>\n",
              "      <td>Pagado</td>\n",
              "      <td>Mercado Pago</td>\n",
              "      <td>NaN</td>\n",
              "      <td>1400.0</td>\n",
              "    </tr>\n",
              "  </tbody>\n",
              "</table>\n",
              "<p>5 rows × 24 columns</p>\n",
              "</div>\n",
              "      <button class=\"colab-df-convert\" onclick=\"convertToInteractive('df-2357b606-14ea-44d3-85c5-1f7577624d24')\"\n",
              "              title=\"Convert this dataframe to an interactive table.\"\n",
              "              style=\"display:none;\">\n",
              "        \n",
              "  <svg xmlns=\"http://www.w3.org/2000/svg\" height=\"24px\"viewBox=\"0 0 24 24\"\n",
              "       width=\"24px\">\n",
              "    <path d=\"M0 0h24v24H0V0z\" fill=\"none\"/>\n",
              "    <path d=\"M18.56 5.44l.94 2.06.94-2.06 2.06-.94-2.06-.94-.94-2.06-.94 2.06-2.06.94zm-11 1L8.5 8.5l.94-2.06 2.06-.94-2.06-.94L8.5 2.5l-.94 2.06-2.06.94zm10 10l.94 2.06.94-2.06 2.06-.94-2.06-.94-.94-2.06-.94 2.06-2.06.94z\"/><path d=\"M17.41 7.96l-1.37-1.37c-.4-.4-.92-.59-1.43-.59-.52 0-1.04.2-1.43.59L10.3 9.45l-7.72 7.72c-.78.78-.78 2.05 0 2.83L4 21.41c.39.39.9.59 1.41.59.51 0 1.02-.2 1.41-.59l7.78-7.78 2.81-2.81c.8-.78.8-2.07 0-2.86zM5.41 20L4 18.59l7.72-7.72 1.47 1.35L5.41 20z\"/>\n",
              "  </svg>\n",
              "      </button>\n",
              "      \n",
              "  <style>\n",
              "    .colab-df-container {\n",
              "      display:flex;\n",
              "      flex-wrap:wrap;\n",
              "      gap: 12px;\n",
              "    }\n",
              "\n",
              "    .colab-df-convert {\n",
              "      background-color: #E8F0FE;\n",
              "      border: none;\n",
              "      border-radius: 50%;\n",
              "      cursor: pointer;\n",
              "      display: none;\n",
              "      fill: #1967D2;\n",
              "      height: 32px;\n",
              "      padding: 0 0 0 0;\n",
              "      width: 32px;\n",
              "    }\n",
              "\n",
              "    .colab-df-convert:hover {\n",
              "      background-color: #E2EBFA;\n",
              "      box-shadow: 0px 1px 2px rgba(60, 64, 67, 0.3), 0px 1px 3px 1px rgba(60, 64, 67, 0.15);\n",
              "      fill: #174EA6;\n",
              "    }\n",
              "\n",
              "    [theme=dark] .colab-df-convert {\n",
              "      background-color: #3B4455;\n",
              "      fill: #D2E3FC;\n",
              "    }\n",
              "\n",
              "    [theme=dark] .colab-df-convert:hover {\n",
              "      background-color: #434B5C;\n",
              "      box-shadow: 0px 1px 3px 1px rgba(0, 0, 0, 0.15);\n",
              "      filter: drop-shadow(0px 1px 2px rgba(0, 0, 0, 0.3));\n",
              "      fill: #FFFFFF;\n",
              "    }\n",
              "  </style>\n",
              "\n",
              "      <script>\n",
              "        const buttonEl =\n",
              "          document.querySelector('#df-2357b606-14ea-44d3-85c5-1f7577624d24 button.colab-df-convert');\n",
              "        buttonEl.style.display =\n",
              "          google.colab.kernel.accessAllowed ? 'block' : 'none';\n",
              "\n",
              "        async function convertToInteractive(key) {\n",
              "          const element = document.querySelector('#df-2357b606-14ea-44d3-85c5-1f7577624d24');\n",
              "          const dataTable =\n",
              "            await google.colab.kernel.invokeFunction('convertToInteractive',\n",
              "                                                     [key], {});\n",
              "          if (!dataTable) return;\n",
              "\n",
              "          const docLinkHtml = 'Like what you see? Visit the ' +\n",
              "            '<a target=\"_blank\" href=https://colab.research.google.com/notebooks/data_table.ipynb>data table notebook</a>'\n",
              "            + ' to learn more about interactive tables.';\n",
              "          element.innerHTML = '';\n",
              "          dataTable['output_type'] = 'display_data';\n",
              "          await google.colab.output.renderOutput(dataTable, element);\n",
              "          const docLink = document.createElement('div');\n",
              "          docLink.innerHTML = docLinkHtml;\n",
              "          element.appendChild(docLink);\n",
              "        }\n",
              "      </script>\n",
              "    </div>\n",
              "  </div>\n",
              "  "
            ]
          },
          "metadata": {},
          "execution_count": 159
        }
      ],
      "source": [
        "df = pd.read_csv(\"sales_felipa.csv\")\n",
        "df.head()"
      ]
    },
    {
      "cell_type": "markdown",
      "source": [
        "### 5.3 Descripción del dataset"
      ],
      "metadata": {
        "id": "ZYSrhotPNsRe"
      }
    },
    {
      "cell_type": "code",
      "source": [
        "df.shape"
      ],
      "metadata": {
        "colab": {
          "base_uri": "https://localhost:8080/"
        },
        "id": "8HzbKyR8N-n3",
        "outputId": "e4b67b17-a0f2-4570-87b2-ff20f19b36a6"
      },
      "execution_count": null,
      "outputs": [
        {
          "output_type": "execute_result",
          "data": {
            "text/plain": [
              "(985, 24)"
            ]
          },
          "metadata": {},
          "execution_count": 160
        }
      ]
    },
    {
      "cell_type": "markdown",
      "source": [
        "- El dataset a analizar contiene 985 entradas que representan cada artículo vendido desde el comienzo del emprendimiento en abril del 2020 hasta julio del 2022.\n",
        "- Tiene 24 columnas que describen diferentes características del producto como por ejemplo el artículo, talle, precio y cantidad vendida, como también datos de las caracteristicas de la venta como por ejemplo el nombre del cliente, el método de pago y envío seleccionado, entre otras. "
      ],
      "metadata": {
        "id": "IueoKXwAOaAa"
      }
    },
    {
      "cell_type": "code",
      "source": [
        "df.info()"
      ],
      "metadata": {
        "colab": {
          "base_uri": "https://localhost:8080/"
        },
        "id": "gBP9StULOCP0",
        "outputId": "736bb77a-b9b8-4fe5-bbd2-b83a2e2163d2"
      },
      "execution_count": null,
      "outputs": [
        {
          "output_type": "stream",
          "name": "stdout",
          "text": [
            "<class 'pandas.core.frame.DataFrame'>\n",
            "RangeIndex: 985 entries, 0 to 984\n",
            "Data columns (total 24 columns):\n",
            " #   Column                             Non-Null Count  Dtype  \n",
            "---  ------                             --------------  -----  \n",
            " 0   Fecha                              985 non-null    object \n",
            " 1   Artículo                           985 non-null    object \n",
            " 2   Variante                           985 non-null    object \n",
            " 3   SKU                                5 non-null      float64\n",
            " 4   Cant.                              985 non-null    int64  \n",
            " 5   Cantidad reembolsada               985 non-null    int64  \n",
            " 6   Precio                             985 non-null    float64\n",
            " 7   Peso                               985 non-null    int64  \n",
            " 8   Texto personalizado                0 non-null      float64\n",
            " 9   Monto del depósito                 0 non-null      float64\n",
            " 10  Método de envío                    973 non-null    object \n",
            " 11  Tiempo de entrega                  654 non-null    object \n",
            " 12  Nombre del destinatario            973 non-null    object \n",
            " 13  Núm. de teléfono del destinatario  553 non-null    object \n",
            " 14  Empresa del destinatario           0 non-null      float64\n",
            " 15  País de entrega                    973 non-null    object \n",
            " 16  Estado de entrega                  973 non-null    object \n",
            " 17  Ciudad de entrega                  973 non-null    object \n",
            " 18  Dirección de entrega               973 non-null    object \n",
            " 19  Código postal de entrega           973 non-null    object \n",
            " 20  Estado del pago                    985 non-null    object \n",
            " 21  Método de pago                     981 non-null    object \n",
            " 22  Código del cupón                   369 non-null    object \n",
            " 23  Total                              985 non-null    float64\n",
            "dtypes: float64(6), int64(3), object(15)\n",
            "memory usage: 184.8+ KB\n"
          ]
        }
      ]
    },
    {
      "cell_type": "markdown",
      "source": [
        "**Observaciones**\n",
        "\n",
        "*   Los tipos de datos de las columnas se dividen en 9 numéricas y 15 categóricas\n",
        "*   Hay tres columnas que tienen los datos nulos\n",
        "*   La columna de \"SKU\" tiene solo 5 datos"
      ],
      "metadata": {
        "id": "XrDyBDJ5OKub"
      }
    },
    {
      "cell_type": "markdown",
      "source": [
        "### 5.4 Limpieza y pre-procesamiento de datos"
      ],
      "metadata": {
        "id": "hRTyv8ivVs8T"
      }
    },
    {
      "cell_type": "code",
      "source": [
        "# Descarto del análisis las tres columnas que tienen todos los datos nulos\n",
        "\n",
        "df.drop(['Empresa del destinatario','Monto del depósito','Texto personalizado'], axis=1, inplace=True)\n",
        "df.shape # De esta forma se puede corroborar que el número de columnas pasa de 24 a 21"
      ],
      "metadata": {
        "colab": {
          "base_uri": "https://localhost:8080/"
        },
        "id": "vRYViEJ9Vwdg",
        "outputId": "a0e9f58c-bae9-4aa7-c2a6-42082946f7c1"
      },
      "execution_count": null,
      "outputs": [
        {
          "output_type": "execute_result",
          "data": {
            "text/plain": [
              "(985, 21)"
            ]
          },
          "metadata": {},
          "execution_count": 162
        }
      ]
    },
    {
      "cell_type": "code",
      "source": [
        "# Utilizo una función para renombrar las columnas al formato snake case\n",
        "\n",
        "label_to_snake_case = lambda label: label.lower().replace(' ','_').replace('á','a').replace('é','e').replace('ó','o').replace('ú','u').replace('í','i')"
      ],
      "metadata": {
        "id": "NqbKcZa3YuH6"
      },
      "execution_count": null,
      "outputs": []
    },
    {
      "cell_type": "code",
      "source": [
        "# Creo un diccionario y le aplico la función anteriormente creada\n",
        "\n",
        "rename_dict = {}\n",
        "\n",
        "for label in df.columns:\n",
        "    rename_dict[label] = label_to_snake_case(label)\n",
        "    \n",
        "rename_dict"
      ],
      "metadata": {
        "colab": {
          "base_uri": "https://localhost:8080/"
        },
        "id": "1C4sn5etbznn",
        "outputId": "0008febf-f7d6-4581-9c19-96fcb2486b3c"
      },
      "execution_count": null,
      "outputs": [
        {
          "output_type": "execute_result",
          "data": {
            "text/plain": [
              "{'Fecha': 'fecha',\n",
              " 'Artículo': 'articulo',\n",
              " 'Variante': 'variante',\n",
              " 'SKU': 'sku',\n",
              " 'Cant.': 'cant.',\n",
              " 'Cantidad reembolsada': 'cantidad_reembolsada',\n",
              " 'Precio': 'precio',\n",
              " 'Peso': 'peso',\n",
              " 'Método de envío': 'metodo_de_envio',\n",
              " 'Tiempo de entrega': 'tiempo_de_entrega',\n",
              " 'Nombre del destinatario': 'nombre_del_destinatario',\n",
              " 'Núm. de teléfono del destinatario': 'num._de_telefono_del_destinatario',\n",
              " 'País de entrega': 'pais_de_entrega',\n",
              " 'Estado de entrega': 'estado_de_entrega',\n",
              " 'Ciudad de entrega': 'ciudad_de_entrega',\n",
              " 'Dirección de entrega': 'direccion_de_entrega',\n",
              " 'Código postal de entrega': 'codigo_postal_de_entrega',\n",
              " 'Estado del pago': 'estado_del_pago',\n",
              " 'Método de pago': 'metodo_de_pago',\n",
              " 'Código del cupón': 'codigo_del_cupon',\n",
              " 'Total': 'total'}"
            ]
          },
          "metadata": {},
          "execution_count": 164
        }
      ]
    },
    {
      "cell_type": "code",
      "source": [
        "# Veo que una de las variables del diccionario tiene una puntuación que luego puede traer inconvenientes por eso la renombro\n",
        "\n",
        "rename_dict['Cant.'] = 'cantidad' "
      ],
      "metadata": {
        "id": "JGSvRRIT_ZfB"
      },
      "execution_count": null,
      "outputs": []
    },
    {
      "cell_type": "code",
      "source": [
        "# Cambio los nombres de las columnas a formato snake case\n",
        "\n",
        "felipa_df = df.rename(columns=rename_dict)\n",
        "felipa_df.columns "
      ],
      "metadata": {
        "id": "49BcsW-5cryh",
        "colab": {
          "base_uri": "https://localhost:8080/"
        },
        "outputId": "a420c297-a0fa-4bce-c8a4-0aca8061220f"
      },
      "execution_count": null,
      "outputs": [
        {
          "output_type": "execute_result",
          "data": {
            "text/plain": [
              "Index(['fecha', 'articulo', 'variante', 'sku', 'cantidad',\n",
              "       'cantidad_reembolsada', 'precio', 'peso', 'metodo_de_envio',\n",
              "       'tiempo_de_entrega', 'nombre_del_destinatario',\n",
              "       'num._de_telefono_del_destinatario', 'pais_de_entrega',\n",
              "       'estado_de_entrega', 'ciudad_de_entrega', 'direccion_de_entrega',\n",
              "       'codigo_postal_de_entrega', 'estado_del_pago', 'metodo_de_pago',\n",
              "       'codigo_del_cupon', 'total'],\n",
              "      dtype='object')"
            ]
          },
          "metadata": {},
          "execution_count": 166
        }
      ]
    },
    {
      "cell_type": "code",
      "source": [
        "# Cambio el tipo de dato a datetime para luego poder utilizarlo de forma más eficiente\n",
        "\n",
        "felipa_df.fecha = felipa_df['fecha'].astype('datetime64') \n",
        "felipa_df.info() # Chequeo que el dato esté correctamente cambiado"
      ],
      "metadata": {
        "id": "oy47aSn0sFGp",
        "colab": {
          "base_uri": "https://localhost:8080/"
        },
        "outputId": "2529645f-6d2d-458e-ca16-0e4f40b2a0eb"
      },
      "execution_count": null,
      "outputs": [
        {
          "output_type": "stream",
          "name": "stdout",
          "text": [
            "<class 'pandas.core.frame.DataFrame'>\n",
            "RangeIndex: 985 entries, 0 to 984\n",
            "Data columns (total 21 columns):\n",
            " #   Column                             Non-Null Count  Dtype         \n",
            "---  ------                             --------------  -----         \n",
            " 0   fecha                              985 non-null    datetime64[ns]\n",
            " 1   articulo                           985 non-null    object        \n",
            " 2   variante                           985 non-null    object        \n",
            " 3   sku                                5 non-null      float64       \n",
            " 4   cantidad                           985 non-null    int64         \n",
            " 5   cantidad_reembolsada               985 non-null    int64         \n",
            " 6   precio                             985 non-null    float64       \n",
            " 7   peso                               985 non-null    int64         \n",
            " 8   metodo_de_envio                    973 non-null    object        \n",
            " 9   tiempo_de_entrega                  654 non-null    object        \n",
            " 10  nombre_del_destinatario            973 non-null    object        \n",
            " 11  num._de_telefono_del_destinatario  553 non-null    object        \n",
            " 12  pais_de_entrega                    973 non-null    object        \n",
            " 13  estado_de_entrega                  973 non-null    object        \n",
            " 14  ciudad_de_entrega                  973 non-null    object        \n",
            " 15  direccion_de_entrega               973 non-null    object        \n",
            " 16  codigo_postal_de_entrega           973 non-null    object        \n",
            " 17  estado_del_pago                    985 non-null    object        \n",
            " 18  metodo_de_pago                     981 non-null    object        \n",
            " 19  codigo_del_cupon                   369 non-null    object        \n",
            " 20  total                              985 non-null    float64       \n",
            "dtypes: datetime64[ns](1), float64(3), int64(3), object(14)\n",
            "memory usage: 161.7+ KB\n"
          ]
        }
      ]
    },
    {
      "cell_type": "code",
      "source": [
        "# Creo una variables para ver cuántos artículos únicos existen en la base de datos y cuántas unidades se vendieron de cada uno\n",
        "\n",
        "articulos_felipa = felipa_df.groupby('articulo')['cantidad'].sum().sort_values(ascending=False)\n",
        "articulos_felipa "
      ],
      "metadata": {
        "colab": {
          "base_uri": "https://localhost:8080/"
        },
        "id": "y90G12YDuS5G",
        "outputId": "bbf886e4-d5d0-46a6-8540-b55f4ce5c3a4"
      },
      "execution_count": null,
      "outputs": [
        {
          "output_type": "execute_result",
          "data": {
            "text/plain": [
              "articulo\n",
              "Body Queen          66\n",
              "Caliope Bottom      38\n",
              "Conjunto Flora      33\n",
              "Body Dalia          29\n",
              "Body Libra          28\n",
              "                    ..\n",
              "Bralett Rose         1\n",
              "Bralett Positano     1\n",
              "Bralett Petra        1\n",
              "Bralett Morrigan     1\n",
              "Vedetina Ema         1\n",
              "Name: cantidad, Length: 211, dtype: int64"
            ]
          },
          "metadata": {},
          "execution_count": 168
        }
      ]
    },
    {
      "cell_type": "code",
      "source": [
        "# Chequeo cuales son los datos en la columna de sku, para ver si puedo utilizarlos antes de eliminarlos\n",
        "\n",
        "sku_na = felipa_df.sku.isna()\n",
        "felipa_df_1 = felipa_df[sku_na==False]\n",
        "felipa_df_1"
      ],
      "metadata": {
        "colab": {
          "base_uri": "https://localhost:8080/",
          "height": 438
        },
        "id": "MaiS6yrxwS4A",
        "outputId": "dfc93b20-c032-4dc7-ca69-90cee9875287"
      },
      "execution_count": null,
      "outputs": [
        {
          "output_type": "execute_result",
          "data": {
            "text/plain": [
              "         fecha          articulo                 variante  sku  cantidad  \\\n",
              "67  2022-02-20   Babydoll Eliane  talle :1 | Color:Blanco  1.0         1   \n",
              "91  2022-02-12     Boheme Bottom   talle :S | Color:Beige  1.0         1   \n",
              "337 2021-08-01           Jeu Top   talle :L | Color:Negro  0.0         1   \n",
              "366 2021-07-17           Jeu Top   talle :L | Color:Negro  0.0         1   \n",
              "544 2021-01-22  Conjunto Caliope                 talle :S  1.0         1   \n",
              "\n",
              "     cantidad_reembolsada  precio  peso                     metodo_de_envio  \\\n",
              "67                      0   945.0     0          ENVÍO AL INTERIOR A COBRAR   \n",
              "91                      0   345.0     0                           ENVÍO MVD   \n",
              "337                     0   445.0     0                    RETIRO EN TIENDA   \n",
              "366                     0   489.5     0          ENVÍO AL INTERIOR A COBRAR   \n",
              "544                     0  1033.5     0  ENVÍO MVD (VER ZONAS QUE CUBRIMOS)   \n",
              "\n",
              "                       tiempo_de_entrega  ...  \\\n",
              "67                                   NaN  ...   \n",
              "91                                   NaN  ...   \n",
              "337  Recibirás un email de confirmación!  ...   \n",
              "366                                  NaN  ...   \n",
              "544                          11 de Enero  ...   \n",
              "\n",
              "    num._de_telefono_del_destinatario pais_de_entrega estado_de_entrega  \\\n",
              "67                        \"099272259\"             URY             UY-MO   \n",
              "91                     \"098898880000\"             URY             UY-MO   \n",
              "337                               NaN             URY             UY-MO   \n",
              "366                       \"094110735\"             URY             UY-MO   \n",
              "544                       \"092657233\"             URY             UY-MO   \n",
              "\n",
              "    ciudad_de_entrega                               direccion_de_entrega  \\\n",
              "67         Montevideo                             Benito Blanco 1095 802   \n",
              "91         Montevideo   Av. 18 de Julio 1707  apto 12 esquina Magallanes   \n",
              "337    Punta Carretas                                   José Ellauri 724   \n",
              "366        Montevideo                                       Maciel  1518   \n",
              "544       Montevideo   Bv.Jose Batlle y Ordóñez 3218 esq. Emilio Raña...   \n",
              "\n",
              "    codigo_postal_de_entrega estado_del_pago metodo_de_pago codigo_del_cupon  \\\n",
              "67                   \"11300\"          Pagado        offline              NaN   \n",
              "91                   \"11200\"          Pagado   Mercado Pago              NaN   \n",
              "337                  \"11300\"          Pagado        offline              NaN   \n",
              "366                  \"11000\"          Pagado   Mercado Pago              NaN   \n",
              "544                  \"11600\"          Pagado   Mercado Pago              NaN   \n",
              "\n",
              "      total  \n",
              "67   1890.0  \n",
              "91   3716.0  \n",
              "337   917.0  \n",
              "366  1112.5  \n",
              "544  2162.0  \n",
              "\n",
              "[5 rows x 21 columns]"
            ],
            "text/html": [
              "\n",
              "  <div id=\"df-a29caeb3-e10c-4931-9070-dc8a30f10097\">\n",
              "    <div class=\"colab-df-container\">\n",
              "      <div>\n",
              "<style scoped>\n",
              "    .dataframe tbody tr th:only-of-type {\n",
              "        vertical-align: middle;\n",
              "    }\n",
              "\n",
              "    .dataframe tbody tr th {\n",
              "        vertical-align: top;\n",
              "    }\n",
              "\n",
              "    .dataframe thead th {\n",
              "        text-align: right;\n",
              "    }\n",
              "</style>\n",
              "<table border=\"1\" class=\"dataframe\">\n",
              "  <thead>\n",
              "    <tr style=\"text-align: right;\">\n",
              "      <th></th>\n",
              "      <th>fecha</th>\n",
              "      <th>articulo</th>\n",
              "      <th>variante</th>\n",
              "      <th>sku</th>\n",
              "      <th>cantidad</th>\n",
              "      <th>cantidad_reembolsada</th>\n",
              "      <th>precio</th>\n",
              "      <th>peso</th>\n",
              "      <th>metodo_de_envio</th>\n",
              "      <th>tiempo_de_entrega</th>\n",
              "      <th>...</th>\n",
              "      <th>num._de_telefono_del_destinatario</th>\n",
              "      <th>pais_de_entrega</th>\n",
              "      <th>estado_de_entrega</th>\n",
              "      <th>ciudad_de_entrega</th>\n",
              "      <th>direccion_de_entrega</th>\n",
              "      <th>codigo_postal_de_entrega</th>\n",
              "      <th>estado_del_pago</th>\n",
              "      <th>metodo_de_pago</th>\n",
              "      <th>codigo_del_cupon</th>\n",
              "      <th>total</th>\n",
              "    </tr>\n",
              "  </thead>\n",
              "  <tbody>\n",
              "    <tr>\n",
              "      <th>67</th>\n",
              "      <td>2022-02-20</td>\n",
              "      <td>Babydoll Eliane</td>\n",
              "      <td>talle :1 | Color:Blanco</td>\n",
              "      <td>1.0</td>\n",
              "      <td>1</td>\n",
              "      <td>0</td>\n",
              "      <td>945.0</td>\n",
              "      <td>0</td>\n",
              "      <td>ENVÍO AL INTERIOR A COBRAR</td>\n",
              "      <td>NaN</td>\n",
              "      <td>...</td>\n",
              "      <td>\"099272259\"</td>\n",
              "      <td>URY</td>\n",
              "      <td>UY-MO</td>\n",
              "      <td>Montevideo</td>\n",
              "      <td>Benito Blanco 1095 802</td>\n",
              "      <td>\"11300\"</td>\n",
              "      <td>Pagado</td>\n",
              "      <td>offline</td>\n",
              "      <td>NaN</td>\n",
              "      <td>1890.0</td>\n",
              "    </tr>\n",
              "    <tr>\n",
              "      <th>91</th>\n",
              "      <td>2022-02-12</td>\n",
              "      <td>Boheme Bottom</td>\n",
              "      <td>talle :S | Color:Beige</td>\n",
              "      <td>1.0</td>\n",
              "      <td>1</td>\n",
              "      <td>0</td>\n",
              "      <td>345.0</td>\n",
              "      <td>0</td>\n",
              "      <td>ENVÍO MVD</td>\n",
              "      <td>NaN</td>\n",
              "      <td>...</td>\n",
              "      <td>\"098898880000\"</td>\n",
              "      <td>URY</td>\n",
              "      <td>UY-MO</td>\n",
              "      <td>Montevideo</td>\n",
              "      <td>Av. 18 de Julio 1707  apto 12 esquina Magallanes</td>\n",
              "      <td>\"11200\"</td>\n",
              "      <td>Pagado</td>\n",
              "      <td>Mercado Pago</td>\n",
              "      <td>NaN</td>\n",
              "      <td>3716.0</td>\n",
              "    </tr>\n",
              "    <tr>\n",
              "      <th>337</th>\n",
              "      <td>2021-08-01</td>\n",
              "      <td>Jeu Top</td>\n",
              "      <td>talle :L | Color:Negro</td>\n",
              "      <td>0.0</td>\n",
              "      <td>1</td>\n",
              "      <td>0</td>\n",
              "      <td>445.0</td>\n",
              "      <td>0</td>\n",
              "      <td>RETIRO EN TIENDA</td>\n",
              "      <td>Recibirás un email de confirmación!</td>\n",
              "      <td>...</td>\n",
              "      <td>NaN</td>\n",
              "      <td>URY</td>\n",
              "      <td>UY-MO</td>\n",
              "      <td>Punta Carretas</td>\n",
              "      <td>José Ellauri 724</td>\n",
              "      <td>\"11300\"</td>\n",
              "      <td>Pagado</td>\n",
              "      <td>offline</td>\n",
              "      <td>NaN</td>\n",
              "      <td>917.0</td>\n",
              "    </tr>\n",
              "    <tr>\n",
              "      <th>366</th>\n",
              "      <td>2021-07-17</td>\n",
              "      <td>Jeu Top</td>\n",
              "      <td>talle :L | Color:Negro</td>\n",
              "      <td>0.0</td>\n",
              "      <td>1</td>\n",
              "      <td>0</td>\n",
              "      <td>489.5</td>\n",
              "      <td>0</td>\n",
              "      <td>ENVÍO AL INTERIOR A COBRAR</td>\n",
              "      <td>NaN</td>\n",
              "      <td>...</td>\n",
              "      <td>\"094110735\"</td>\n",
              "      <td>URY</td>\n",
              "      <td>UY-MO</td>\n",
              "      <td>Montevideo</td>\n",
              "      <td>Maciel  1518</td>\n",
              "      <td>\"11000\"</td>\n",
              "      <td>Pagado</td>\n",
              "      <td>Mercado Pago</td>\n",
              "      <td>NaN</td>\n",
              "      <td>1112.5</td>\n",
              "    </tr>\n",
              "    <tr>\n",
              "      <th>544</th>\n",
              "      <td>2021-01-22</td>\n",
              "      <td>Conjunto Caliope</td>\n",
              "      <td>talle :S</td>\n",
              "      <td>1.0</td>\n",
              "      <td>1</td>\n",
              "      <td>0</td>\n",
              "      <td>1033.5</td>\n",
              "      <td>0</td>\n",
              "      <td>ENVÍO MVD (VER ZONAS QUE CUBRIMOS)</td>\n",
              "      <td>11 de Enero</td>\n",
              "      <td>...</td>\n",
              "      <td>\"092657233\"</td>\n",
              "      <td>URY</td>\n",
              "      <td>UY-MO</td>\n",
              "      <td>Montevideo</td>\n",
              "      <td>Bv.Jose Batlle y Ordóñez 3218 esq. Emilio Raña...</td>\n",
              "      <td>\"11600\"</td>\n",
              "      <td>Pagado</td>\n",
              "      <td>Mercado Pago</td>\n",
              "      <td>NaN</td>\n",
              "      <td>2162.0</td>\n",
              "    </tr>\n",
              "  </tbody>\n",
              "</table>\n",
              "<p>5 rows × 21 columns</p>\n",
              "</div>\n",
              "      <button class=\"colab-df-convert\" onclick=\"convertToInteractive('df-a29caeb3-e10c-4931-9070-dc8a30f10097')\"\n",
              "              title=\"Convert this dataframe to an interactive table.\"\n",
              "              style=\"display:none;\">\n",
              "        \n",
              "  <svg xmlns=\"http://www.w3.org/2000/svg\" height=\"24px\"viewBox=\"0 0 24 24\"\n",
              "       width=\"24px\">\n",
              "    <path d=\"M0 0h24v24H0V0z\" fill=\"none\"/>\n",
              "    <path d=\"M18.56 5.44l.94 2.06.94-2.06 2.06-.94-2.06-.94-.94-2.06-.94 2.06-2.06.94zm-11 1L8.5 8.5l.94-2.06 2.06-.94-2.06-.94L8.5 2.5l-.94 2.06-2.06.94zm10 10l.94 2.06.94-2.06 2.06-.94-2.06-.94-.94-2.06-.94 2.06-2.06.94z\"/><path d=\"M17.41 7.96l-1.37-1.37c-.4-.4-.92-.59-1.43-.59-.52 0-1.04.2-1.43.59L10.3 9.45l-7.72 7.72c-.78.78-.78 2.05 0 2.83L4 21.41c.39.39.9.59 1.41.59.51 0 1.02-.2 1.41-.59l7.78-7.78 2.81-2.81c.8-.78.8-2.07 0-2.86zM5.41 20L4 18.59l7.72-7.72 1.47 1.35L5.41 20z\"/>\n",
              "  </svg>\n",
              "      </button>\n",
              "      \n",
              "  <style>\n",
              "    .colab-df-container {\n",
              "      display:flex;\n",
              "      flex-wrap:wrap;\n",
              "      gap: 12px;\n",
              "    }\n",
              "\n",
              "    .colab-df-convert {\n",
              "      background-color: #E8F0FE;\n",
              "      border: none;\n",
              "      border-radius: 50%;\n",
              "      cursor: pointer;\n",
              "      display: none;\n",
              "      fill: #1967D2;\n",
              "      height: 32px;\n",
              "      padding: 0 0 0 0;\n",
              "      width: 32px;\n",
              "    }\n",
              "\n",
              "    .colab-df-convert:hover {\n",
              "      background-color: #E2EBFA;\n",
              "      box-shadow: 0px 1px 2px rgba(60, 64, 67, 0.3), 0px 1px 3px 1px rgba(60, 64, 67, 0.15);\n",
              "      fill: #174EA6;\n",
              "    }\n",
              "\n",
              "    [theme=dark] .colab-df-convert {\n",
              "      background-color: #3B4455;\n",
              "      fill: #D2E3FC;\n",
              "    }\n",
              "\n",
              "    [theme=dark] .colab-df-convert:hover {\n",
              "      background-color: #434B5C;\n",
              "      box-shadow: 0px 1px 3px 1px rgba(0, 0, 0, 0.15);\n",
              "      filter: drop-shadow(0px 1px 2px rgba(0, 0, 0, 0.3));\n",
              "      fill: #FFFFFF;\n",
              "    }\n",
              "  </style>\n",
              "\n",
              "      <script>\n",
              "        const buttonEl =\n",
              "          document.querySelector('#df-a29caeb3-e10c-4931-9070-dc8a30f10097 button.colab-df-convert');\n",
              "        buttonEl.style.display =\n",
              "          google.colab.kernel.accessAllowed ? 'block' : 'none';\n",
              "\n",
              "        async function convertToInteractive(key) {\n",
              "          const element = document.querySelector('#df-a29caeb3-e10c-4931-9070-dc8a30f10097');\n",
              "          const dataTable =\n",
              "            await google.colab.kernel.invokeFunction('convertToInteractive',\n",
              "                                                     [key], {});\n",
              "          if (!dataTable) return;\n",
              "\n",
              "          const docLinkHtml = 'Like what you see? Visit the ' +\n",
              "            '<a target=\"_blank\" href=https://colab.research.google.com/notebooks/data_table.ipynb>data table notebook</a>'\n",
              "            + ' to learn more about interactive tables.';\n",
              "          element.innerHTML = '';\n",
              "          dataTable['output_type'] = 'display_data';\n",
              "          await google.colab.output.renderOutput(dataTable, element);\n",
              "          const docLink = document.createElement('div');\n",
              "          docLink.innerHTML = docLinkHtml;\n",
              "          element.appendChild(docLink);\n",
              "        }\n",
              "      </script>\n",
              "    </div>\n",
              "  </div>\n",
              "  "
            ]
          },
          "metadata": {},
          "execution_count": 169
        }
      ]
    },
    {
      "cell_type": "code",
      "source": [
        "# Como son pocos, no son únicos y no me sirven para identificar los articulos, voy a eliminar la columna.\n",
        "\n",
        "felipa_df.drop(['sku'], axis=1, inplace=True)\n",
        "felipa_df.shape # Ahora tengo 20 columnas en la base de datos"
      ],
      "metadata": {
        "colab": {
          "base_uri": "https://localhost:8080/"
        },
        "id": "jBZfXEgyw-XD",
        "outputId": "1e863885-d1c1-4d4f-ac57-4f4981ab133c"
      },
      "execution_count": null,
      "outputs": [
        {
          "output_type": "execute_result",
          "data": {
            "text/plain": [
              "(985, 20)"
            ]
          },
          "metadata": {},
          "execution_count": 170
        }
      ]
    },
    {
      "cell_type": "markdown",
      "source": [
        "Estos son los datos con los que voy a realizar el análisis."
      ],
      "metadata": {
        "id": "KGnwsnHt9mCy"
      }
    },
    {
      "cell_type": "markdown",
      "source": [
        "## 6. Análisis exploratorio, descriptivo y visual de los datos"
      ],
      "metadata": {
        "id": "fGACZ49IXjze"
      }
    },
    {
      "cell_type": "markdown",
      "source": [
        "### 6.1 Cuál es el año que representó mayor cantidad de profit?"
      ],
      "metadata": {
        "id": "GPemswkh-VkQ"
      }
    },
    {
      "cell_type": "code",
      "source": [
        "# Creo una lista calculando el profit de cada venta\n",
        "\n",
        "list_profit = []\n",
        "i= 0\n",
        "\n",
        "for venta in felipa_df.values:\n",
        "  profit = felipa_df.iloc[i]['precio'] * felipa_df.iloc[i]['cantidad']\n",
        "  i += 1\n",
        "  list_profit.append(profit)"
      ],
      "metadata": {
        "id": "w09T11MQ7m4s"
      },
      "execution_count": null,
      "outputs": []
    },
    {
      "cell_type": "code",
      "source": [
        "# Inserto una columna vacia a la base de datos\n",
        "\n",
        "felipa_df.insert(20,\"profit\",np.nan, allow_duplicates=True) "
      ],
      "metadata": {
        "id": "6eLTAPCEGiLk"
      },
      "execution_count": null,
      "outputs": []
    },
    {
      "cell_type": "code",
      "source": [
        "# Le agrego a la columna vacia los valores de la lista de profits\n",
        "i= 0\n",
        "\n",
        "for profit in list_profit:\n",
        "  felipa_df['profit'][i] = profit\n",
        "  i += 1"
      ],
      "metadata": {
        "colab": {
          "base_uri": "https://localhost:8080/"
        },
        "id": "SSlrkrutHiCL",
        "outputId": "4eb7ee95-df29-4634-8841-54de183b20a0"
      },
      "execution_count": null,
      "outputs": [
        {
          "output_type": "stream",
          "name": "stderr",
          "text": [
            "/usr/local/lib/python3.7/dist-packages/ipykernel_launcher.py:5: SettingWithCopyWarning: \n",
            "A value is trying to be set on a copy of a slice from a DataFrame\n",
            "\n",
            "See the caveats in the documentation: https://pandas.pydata.org/pandas-docs/stable/user_guide/indexing.html#returning-a-view-versus-a-copy\n",
            "  \"\"\"\n"
          ]
        }
      ]
    },
    {
      "cell_type": "code",
      "source": [
        "# Saco los datos totales de las cantidades y las ganancias\n",
        "\n",
        "cantidad_felipa_total = felipa_df['cantidad'].sum()\n",
        "profit_felipa_total = felipa_df['profit'].sum()\n",
        "print('Unidades totales vendidas:', cantidad_felipa_total)\n",
        "print('Ganancia total: $',profit_felipa_total)"
      ],
      "metadata": {
        "colab": {
          "base_uri": "https://localhost:8080/"
        },
        "id": "_6cAiQk5eRyF",
        "outputId": "e91dbd57-91bc-4592-8490-e6fe4f2db613"
      },
      "execution_count": null,
      "outputs": [
        {
          "output_type": "stream",
          "name": "stdout",
          "text": [
            "Unidades totales vendidas: 1034\n",
            "Ganancia total: $ 1015848.3\n"
          ]
        }
      ]
    },
    {
      "cell_type": "code",
      "source": [
        "# Utilizo el formato datetime para extraer el año de la fecha y agrupar las ventas por año\n",
        "\n",
        "fecha_year = felipa_df['fecha'].dt.year\n",
        "ventas_felipa_year = felipa_df.groupby(fecha_year)['profit'].sum()"
      ],
      "metadata": {
        "id": "14V_f1w_RAhU"
      },
      "execution_count": null,
      "outputs": []
    },
    {
      "cell_type": "code",
      "source": [
        "# Grafico las ventas por año\n",
        "\n",
        "ventas_felipa_year.plot(kind='bar',figsize=(15,8),color='pink')"
      ],
      "metadata": {
        "colab": {
          "base_uri": "https://localhost:8080/",
          "height": 530
        },
        "id": "u4AWxnIrR3vt",
        "outputId": "e7e80d2b-82ed-4d99-960a-e00cfad62f62"
      },
      "execution_count": null,
      "outputs": [
        {
          "output_type": "execute_result",
          "data": {
            "text/plain": [
              "<matplotlib.axes._subplots.AxesSubplot at 0x7fd7b822ac50>"
            ]
          },
          "metadata": {},
          "execution_count": 176
        },
        {
          "output_type": "display_data",
          "data": {
            "text/plain": [
              "<Figure size 1080x576 with 1 Axes>"
            ],
            "image/png": "[encoded data removed]"
          },
          "metadata": {
            "needs_background": "light"
          }
        }
      ]
    },
    {
      "cell_type": "markdown",
      "source": [
        "El año que tiene mayor cantidad de profit es el 2021, aclarando que es el único año que se encuentra completo en la base de datos."
      ],
      "metadata": {
        "id": "tHjjgO4-_KFz"
      }
    },
    {
      "cell_type": "markdown",
      "source": [
        "### 6.2 Existe estacionalidad en las ventas? La mayor cantidad de profit se traduce a mayor cantidad de unidades vendidas?"
      ],
      "metadata": {
        "id": "IVBJQbHM_Pfv"
      }
    },
    {
      "cell_type": "code",
      "source": [
        "# Creo un dataframe separado con las ventas y cantidades agrupadas por mes\n",
        "\n",
        "fecha_month = felipa_df['fecha'].dt.month\n",
        "fecha_year = felipa_df['fecha'].dt.year\n",
        "\n",
        "profit =  pd.DataFrame((felipa_df['profit']).groupby([fecha_year,fecha_month]).sum())\n",
        "cantidad = pd.DataFrame((felipa_df['cantidad']).groupby([fecha_year,fecha_month]).sum())"
      ],
      "metadata": {
        "id": "xNAXl8B2E1nM"
      },
      "execution_count": null,
      "outputs": []
    },
    {
      "cell_type": "code",
      "source": [
        "# Visualizo con un gráfico de dos ejes ambos dataframes\n",
        "\n",
        "fig = plt.figure(figsize=(15,8))\n",
        "ax = profit['profit'].plot(kind='bar',grid=False,color='grey',label='Ganancias')\n",
        "ax2 = ax.twinx()\n",
        "ax2.plot(cantidad['cantidad'].values,linestyle='-',linewidth=2.0,color='green',label='Cantidades')\n",
        "plt.ylabel('Cantidades')\n",
        "ax.set_ylabel('Ganancia ($)')\n",
        "ax.set_xlabel('Año/Mes')\n",
        "plt.legend()\n",
        "plt.title('Ganancia y Unidades vendidas por año')\n",
        "plt.show();"
      ],
      "metadata": {
        "colab": {
          "base_uri": "https://localhost:8080/",
          "height": 555
        },
        "id": "5-By0Em72oZy",
        "outputId": "0c60dfcf-9564-4e81-8dee-9e50bef7e475"
      },
      "execution_count": null,
      "outputs": [
        {
          "output_type": "display_data",
          "data": {
            "text/plain": [
              "<Figure size 1080x576 with 2 Axes>"
            ],
            "image/png": "[encoded data removed]"
          },
          "metadata": {
            "needs_background": "light"
          }
        }
      ]
    },
    {
      "cell_type": "markdown",
      "source": [
        "Puedo ver que existe una estacionalidad ya que los meses en el 2020 y 2021 se comportan de la misma forma en cuanto a profit, siendo el segundo semestre el que trae mayor ganancia."
      ],
      "metadata": {
        "id": "DAkzx907AH2n"
      }
    },
    {
      "cell_type": "markdown",
      "source": [
        "Al graficar las cantidades junto con las ganancias, veo que no necesariamente existe una relación entre mayor cantidad de productos mayor ganancia. En junio de 2020 se observa una mayor cantidad de unidades vendidas que en junio de 2021, sin embargo, las ganancias de junio 2021 son mayores."
      ],
      "metadata": {
        "id": "coIKPrudCqMF"
      }
    },
    {
      "cell_type": "markdown",
      "source": [
        "### 6.3 Cuál es el artículo que generó mayor ganancia?"
      ],
      "metadata": {
        "id": "Q8yXBqksDHbG"
      }
    },
    {
      "cell_type": "code",
      "source": [
        "# Agrupo en una variable las ganancias por los articulos \n",
        "\n",
        "articulos_felipa = felipa_df.groupby('articulo')['profit'].sum().sort_values(ascending=True)\n",
        "articulos_felipa_top = articulos_felipa[201:211]\n",
        "articulos_felipa_top"
      ],
      "metadata": {
        "colab": {
          "base_uri": "https://localhost:8080/"
        },
        "id": "5wV-yqhGVhuy",
        "outputId": "eab364be-1493-47b0-ff9e-6e3148b90cf1"
      },
      "execution_count": null,
      "outputs": [
        {
          "output_type": "execute_result",
          "data": {
            "text/plain": [
              "articulo\n",
              "Body queen                    16736.5\n",
              "Regulable Bottom pack x 3     19930.0\n",
              "Caliope Bottom                22521.0\n",
              "Conjunto Caliope              25867.5\n",
              "Caliope Top & Bottom          26238.0\n",
              "Conjunto Eva                  26877.5\n",
              "Body Dalia                    30430.0\n",
              "Body Libra                    30454.0\n",
              "Conjunto Flora                32385.0\n",
              "Body Queen                   111875.0\n",
              "Name: profit, dtype: float64"
            ]
          },
          "metadata": {},
          "execution_count": 179
        }
      ]
    },
    {
      "cell_type": "code",
      "source": [
        "# Selecciono el top 10 de artículos más vendidos y los grafico con su respectiva ganancia\n",
        "\n",
        "articulos_felipa_top.plot(kind='barh',figsize=(10,8),color='purple')\n",
        "plt.xlabel('Ventas en $') \n",
        "plt.ylabel('Articulos') \n",
        "plt.title('Top 10 de ventas por articulo ($)')\n",
        "for index, value in enumerate(articulos_felipa_top):\n",
        "    label = format(int(value), ',')\n",
        "    plt.annotate(label, xy=(value-9000, index-0.1), color='white')\n",
        "plt.show()"
      ],
      "metadata": {
        "colab": {
          "base_uri": "https://localhost:8080/",
          "height": 513
        },
        "id": "KBrhIv3FWJmL",
        "outputId": "61c6a0e1-b286-4991-8da8-042764b166ad"
      },
      "execution_count": null,
      "outputs": [
        {
          "output_type": "display_data",
          "data": {
            "text/plain": [
              "<Figure size 720x576 with 1 Axes>"
            ],
            "image/png": "[encoded data removed]"
          },
          "metadata": {
            "needs_background": "light"
          }
        }
      ]
    },
    {
      "cell_type": "markdown",
      "source": [
        "Veo que algunos artículos se repiten, pero decido no normalizarlos porque el que tiene mayor ganancia sigue teniendola aunque algunos otros artículos se terminen agrupando.\n",
        "- El artículo que generó mayor ganancia es el **Body Queen**."
      ],
      "metadata": {
        "id": "yIMLwW4HDlsN"
      }
    },
    {
      "cell_type": "markdown",
      "source": [
        "### 6.4 Cuál es el método de pago más elegido por las clientas?"
      ],
      "metadata": {
        "id": "ujWjLb9T3lPK"
      }
    },
    {
      "cell_type": "code",
      "source": [
        "# Creo un dataframe para ver solo los metodos de pago y la cantidad de articulos vendidos\n",
        "\n",
        "pagos_felipa = felipa_df.groupby('metodo_de_pago')['cantidad'].sum().sort_values(ascending=False)\n",
        "pagos_felipa"
      ],
      "metadata": {
        "colab": {
          "base_uri": "https://localhost:8080/"
        },
        "id": "Xss82MbU3ked",
        "outputId": "1f148ef0-5988-4aa5-f279-b06be7337664"
      },
      "execution_count": null,
      "outputs": [
        {
          "output_type": "execute_result",
          "data": {
            "text/plain": [
              "metodo_de_pago\n",
              "Mercado Pago    759\n",
              "offline         216\n",
              "Cash             55\n",
              "Name: cantidad, dtype: int64"
            ]
          },
          "metadata": {},
          "execution_count": 181
        }
      ]
    },
    {
      "cell_type": "code",
      "source": [
        "# Hago un gráfico en donde se muestre en % el share de los tipos de método de pago\n",
        "\n",
        "colors=['lightblue', 'lightgrey', 'lightgreen']\n",
        "explode=[0.05, 0.05, 0.05]\n",
        "labels=['Mercado Pago','Offline','Cash'] \n",
        "pagos_felipa.plot(kind='pie', figsize=(10, 8),\n",
        "                  autopct = '%1.1f%%', startangle=90,\n",
        "                  shadow=True, labels=None, pctdistance=0.5, colors=colors, explode=explode)\n",
        "plt.axis('equal')\n",
        "plt.legend(labels=labels, loc='upper right', fontsize=12)\n",
        "plt.show()"
      ],
      "metadata": {
        "colab": {
          "base_uri": "https://localhost:8080/",
          "height": 466
        },
        "id": "T-jBYSxF5JV9",
        "outputId": "1082c1c6-70ca-40b4-c4b1-18ca85bb5e39"
      },
      "execution_count": null,
      "outputs": [
        {
          "output_type": "display_data",
          "data": {
            "text/plain": [
              "<Figure size 720x576 with 1 Axes>"
            ],
            "image/png": "[encoded data removed]"
          },
          "metadata": {}
        }
      ]
    },
    {
      "cell_type": "markdown",
      "source": [
        "El método de pago elegido por el 74% de los clientes es el de Mercado Pago. Es importante aclarar que si bien Mercado Pago ofrece varios métodos dentro del mismo y es el más elegido el mismo (a diferencia de los otros) cobra una comisión del 4,99% +IVA por cada transacción."
      ],
      "metadata": {
        "id": "OVonWysB8B8U"
      }
    },
    {
      "cell_type": "markdown",
      "source": [
        "### 6.5 Cuál es el código postal (zona) que tiene mayor profit?"
      ],
      "metadata": {
        "id": "E3QoUIA0_Y5k"
      }
    },
    {
      "cell_type": "code",
      "source": [
        "cp_felipa = felipa_df.groupby('codigo_postal_de_entrega')['profit'].sum().sort_values(ascending=False)\n",
        "cp_felipa_top = cp_felipa[0:3]\n",
        "cp_felipa_top"
      ],
      "metadata": {
        "colab": {
          "base_uri": "https://localhost:8080/"
        },
        "id": "6n9oScKE_iE3",
        "outputId": "781d0c54-aa0c-486d-8065-240f4b0b35c0"
      },
      "execution_count": null,
      "outputs": [
        {
          "output_type": "execute_result",
          "data": {
            "text/plain": [
              "codigo_postal_de_entrega\n",
              "\"11300\"    454051.4\n",
              "\"11700\"    120381.0\n",
              "\"11200\"     34569.0\n",
              "Name: profit, dtype: float64"
            ]
          },
          "metadata": {},
          "execution_count": 183
        }
      ]
    },
    {
      "cell_type": "markdown",
      "source": [
        "Los códigos postales y zonas en donde podría, en base al profit generado, ser rentable tener una tienda física son:\n",
        "<br> \n",
        "\n",
        "| Código Postal | Barrio |\n",
        "| :--: | :--: |\n",
        "| 11300 | POCITOS/PUNTA CARRETAS |\n",
        "| 11700 | AIRES PUROS/PRADO/NUEVA SAVONA/BRAZO ORIENTAL/ATAHUALPA |\n",
        "| 11200 | CORDON/PALERMO/PARQUE RODO |\n",
        "\n",
        "<br> "
      ],
      "metadata": {
        "id": "w2CKCYLFCIat"
      }
    },
    {
      "cell_type": "markdown",
      "source": [
        "### 7.   Contrastación de hipótesis"
      ],
      "metadata": {
        "id": "gfhDmRSYeDlq"
      }
    },
    {
      "cell_type": "markdown",
      "source": [
        "**Hipótesis a contrastar**\n",
        "- Hipótesis nula (H0): el total de ventas de 2021 no superan las del 2020, son iguales\n",
        "- Hipótesis alternativa (h1): el total de ventas de 2021 superan las del 2020, son diferentes"
      ],
      "metadata": {
        "id": "uj63PlN7a8q9"
      }
    },
    {
      "cell_type": "markdown",
      "source": [
        "Para contrastar estas hipótesis voy a utilizar la prueba Z ya que es el método que se usa para determinar si dos medias muestrales son aproximadamente iguales o diferentes cuando se conoce su varianza y el tamaño de la muestra es mayor a 30.\n",
        "\n",
        "Se parte del supuesto de que si el tamaño de la muestra es grande por el teorema del limite central la distribucion es normal. \n"
      ],
      "metadata": {
        "id": "xV2OwvYDmGg4"
      }
    },
    {
      "cell_type": "code",
      "source": [
        "# Creo un dataframe para cada una de las muestras\n",
        "\n",
        "ventas_2020 = felipa_df.loc[felipa_df['fecha'].dt.year == 2020]\n",
        "ventas_2021 = felipa_df.loc[felipa_df['fecha'].dt.year == 2021]"
      ],
      "metadata": {
        "id": "Bh7wosSrlv0S"
      },
      "execution_count": null,
      "outputs": []
    },
    {
      "cell_type": "code",
      "source": [
        "# Para esta prueba voy a necesitar la media (mean), la varianza (sigma) y el tamaño de la muestra (n) \n",
        "# Cálculo esto para cada muestra\n",
        "\n",
        "# media\n",
        "mean_2020 = round(ventas_2020['profit'].mean(),1)\n",
        "mean_2021 = round(ventas_2021['profit'].mean(),1)\n",
        "\n",
        "# varianza\n",
        "sigma_2020 = round(var(ventas_2020)['profit'],1)\n",
        "sigma_2021 = round(var(ventas_2021)['profit'],1)\n",
        "\n",
        "# tamaño de la muestra\n",
        "n_2020 = len(ventas_2020)\n",
        "n_2021 = len(ventas_2021)\n",
        "\n",
        "print(\"Las medias de las muestras son: 2020- \", mean_2020,\" 2021- \", mean_2021)\n",
        "print(\"Las varianzas de las muestras son: 2020- \", sigma_2020,\" 2021- \", sigma_2021)\n",
        "print(\"Los tamaños de las muestras son: 2020- \", n_2020,\" 2021- \", n_2021)"
      ],
      "metadata": {
        "colab": {
          "base_uri": "https://localhost:8080/"
        },
        "id": "Y2SEaMOJoHht",
        "outputId": "6d2df283-c905-4d26-eb97-285d4f72a4f5"
      },
      "execution_count": null,
      "outputs": [
        {
          "output_type": "stream",
          "name": "stdout",
          "text": [
            "Las medias de las muestras son: 2020-  979.7  2021-  1158.6\n",
            "Las varianzas de las muestras son: 2020-  109583.0  2021-  743219.0\n",
            "Los tamaños de las muestras son: 2020-  436  2021-  425\n"
          ]
        },
        {
          "output_type": "stream",
          "name": "stderr",
          "text": [
            "/usr/local/lib/python3.7/dist-packages/numpy/core/fromnumeric.py:3721: FutureWarning: Dropping of nuisance columns in DataFrame reductions (with 'numeric_only=None') is deprecated; in a future version this will raise TypeError.  Select only valid columns before calling the reduction.\n",
            "  return var(axis=axis, dtype=dtype, out=out, ddof=ddof, **kwargs)\n"
          ]
        }
      ]
    },
    {
      "cell_type": "code",
      "source": [
        "#Ahora para hacer mi prueba voy a calcular el valor de z\n",
        "z=(mean_2020-mean_2021)/np.sqrt(sigma_2020/n_2020+sigma_2021/n_2021)\n",
        "print(round(z,2))\n",
        "\n",
        "# Y a partir de z calculo el p valor para compararlo con el nivel de significancia\n",
        "p=1-stats.norm.cdf(z)\n",
        "print(p)"
      ],
      "metadata": {
        "colab": {
          "base_uri": "https://localhost:8080/"
        },
        "id": "XaRkCHXPsjKx",
        "outputId": "f2238610-8033-4be9-bc7f-df4ccc3f8cd2"
      },
      "execution_count": null,
      "outputs": [
        {
          "output_type": "stream",
          "name": "stdout",
          "text": [
            "-4.0\n",
            "0.9999683605763257\n"
          ]
        }
      ]
    },
    {
      "cell_type": "markdown",
      "source": [
        "Ya viendo que el P valor es mayor que el nivel de significancia que es de 0.05 podemos decir que no se puede rechazar la hipotesis nula."
      ],
      "metadata": {
        "id": "KKN6lYgls1xR"
      }
    },
    {
      "cell_type": "code",
      "source": [
        "# Nivel de significancia\n",
        "sig = 0.05\n",
        "\n",
        "# Utilizo una función para mostrar el resultado de testear la hipotesis nula\n",
        "def test_h0():\n",
        "  if p<sig:\n",
        "    result='Se rechaza H0'\n",
        "  else:\n",
        "    result='Se acepta H1'\n",
        "  return result\n",
        "\n",
        "test_h0()"
      ],
      "metadata": {
        "colab": {
          "base_uri": "https://localhost:8080/",
          "height": 35
        },
        "id": "I4yH39bPtPYl",
        "outputId": "4a4b5f14-081c-4ba9-9add-6be455344795"
      },
      "execution_count": null,
      "outputs": [
        {
          "output_type": "execute_result",
          "data": {
            "text/plain": [
              "'Se acepta H1'"
            ],
            "application/vnd.google.colaboratory.intrinsic+json": {
              "type": "string"
            }
          },
          "metadata": {},
          "execution_count": 187
        }
      ]
    },
    {
      "cell_type": "markdown",
      "source": [
        "A partir de estos resultados podemos hacer la siguiente inferencia: \n",
        "- No existe un nivel de signficancia suficiente como para rechazar la hipotesis nula, por lo que aceptamos la hipotesis alternativa. Las ventas del 2021 son superriores a las del 2020."
      ],
      "metadata": {
        "id": "GNew05ExtqFt"
      }
    },
    {
      "cell_type": "markdown",
      "source": [
        "### 8. Conclusiones"
      ],
      "metadata": {
        "id": "LqEfrPPA4CIn"
      }
    },
    {
      "cell_type": "markdown",
      "source": [
        "En primer lugar, se pude decir que se logró cumplir el objetivo principal del proyecto, se pudo brindar detalles del comportamiento del histórico de ventas del emprendimiento y asi obtener información valiosa como por ejemplo la estacionalidad de las ventas en determinado período del año.\n",
        "\n",
        "Por otro lado, se pudo comprobar la hipótesis planteada y afirmar que las ventas en el 2021 fueron mayores a las del 2020. Teniendo esto en cuenta podemos decir que creció en cuanto a ventas año a año. \n",
        "Una observación con respecto al crecimiento del emprendimiento es que las ventas en el último año con respecto a los dos anteriores bajaron, luego de investigar sobre esto vemos que principios del 2022 se toman una pausa de las ventas por lo que esto se explcia por este tiempo sin vender y no porque en el mercado dejara de haber demanda de los productos o estos no se vendieran bien. \n",
        "\n",
        "En lo personal fue muy motivante poder analizar este dataset ya que se trata de un emprendimiento el cual consumo y tengo mucho afecto. A pesar de encontrarme con dificultades a la hora de plantear la constratacion de hipótesis esto me ayudo a plantear mejor el problema y los obejtivos especificos, quedandome conforme con los resultados del informe.\n",
        "\n"
      ],
      "metadata": {
        "id": "fa9tReWpDUs-"
      }
    }
  ]
}